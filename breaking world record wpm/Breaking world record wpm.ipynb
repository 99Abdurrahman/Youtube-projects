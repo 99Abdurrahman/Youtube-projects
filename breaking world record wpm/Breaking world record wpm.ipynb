{
 "cells": [
  {
   "cell_type": "code",
   "execution_count": 1,
   "id": "767804f5",
   "metadata": {},
   "outputs": [],
   "source": [
    "from selenium import webdriver\n",
    "from selenium.webdriver.common.by import By\n",
    "from selenium.webdriver.common.keys import Keys\n",
    "import time\n",
    "from warnings import filterwarnings\n",
    "filterwarnings(\"ignore\")"
   ]
  },
  {
   "cell_type": "code",
   "execution_count": null,
   "id": "06099c57",
   "metadata": {},
   "outputs": [],
   "source": [
    "driver_path=\"C:\\yedek klasör\\Masaüstü\\chromedriver.exe\"\n",
    "\n",
    "browser=webdriver.Chrome(driver_path)\n",
    "browser.get(\"https://www.google.com/\")\n",
    "\n",
    "googleİnput=browser.find_element(By.CLASS_NAME,\"gLFyf\")\n",
    "googleİnput.send_keys(\"fastfingers\")\n",
    "googleİnput.send_keys(Keys.ENTER)\n",
    "time.sleep(3)\n",
    "\n",
    "find_finger_but=browser.find_element(By.XPATH,\"//*[@id='rso']/div[1]/div/div/div[2]/ul/li/div/div/div/div[1]/div/a/h3\")\n",
    "find_finger_but.click()\n",
    "\n",
    "time.sleep(10)\n",
    "\n",
    "browser.maximize_window()\n",
    "\n",
    "deny_button=browser.find_element(By.CLASS_NAME,\"CybotCookiebotDialogBodyButton\")\n",
    "deny_button.click()\n",
    "\n",
    "time.sleep(3)\n",
    "\n",
    "enter_finger=browser.find_element(By.CLASS_NAME,\"btn.btn-primary\")\n",
    "enter_finger.send_keys(Keys.ENTER)\n",
    "\n",
    "time.sleep(3)\n",
    "\n",
    "eposta_text=browser.find_element(By.CLASS_NAME,\"form-control\")\n",
    "eposta_text.send_keys(\"hadegulle22@gmail.com\")\n",
    "time.sleep(1)\n",
    "\n",
    "user_password=browser.find_element(By.ID,\"UserPassword\")\n",
    "user_password.send_keys(\"password\")\n",
    "\n",
    "enter_button=browser.find_element(By.CLASS_NAME,\"btn.btn-info\")\n",
    "enter_button.send_keys(Keys.ENTER)\n",
    "time.sleep(10)\n",
    "\n",
    "areaOfİnput=browser.find_element(By.ID,\"inputfield\")\n",
    "\n",
    "i=1\n",
    "while i<300:\n",
    "    \n",
    "    mytext=browser.find_element(By.XPATH,\"//*[@id='row1']/span[\"+str(i)+\"]\")\n",
    "    i=i+1\n",
    "    areaOfİnput.send_keys(mytext.text+\" \")\n",
    "    time.sleep(0.02)"
   ]
  },
  {
   "cell_type": "code",
   "execution_count": null,
   "id": "04515eba",
   "metadata": {},
   "outputs": [],
   "source": []
  }
 ],
 "metadata": {
  "kernelspec": {
   "display_name": "Python 3 (ipykernel)",
   "language": "python",
   "name": "python3"
  },
  "language_info": {
   "codemirror_mode": {
    "name": "ipython",
    "version": 3
   },
   "file_extension": ".py",
   "mimetype": "text/x-python",
   "name": "python",
   "nbconvert_exporter": "python",
   "pygments_lexer": "ipython3",
   "version": "3.9.15"
  }
 },
 "nbformat": 4,
 "nbformat_minor": 5
}
